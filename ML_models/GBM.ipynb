{
 "cells": [
  {
   "cell_type": "markdown",
   "metadata": {},
   "source": [
    "Necessary imports"
   ]
  },
  {
   "cell_type": "code",
   "execution_count": 1,
   "metadata": {},
   "outputs": [],
   "source": [
    "import pandas as pd\n",
    "import numpy as np\n",
    "from sklearn.model_selection import RandomizedSearchCV, cross_validate\n",
    "from sklearn.multioutput import MultiOutputRegressor\n",
    "from sklearn.ensemble import GradientBoostingRegressor\n",
    "from sklearn.metrics import make_scorer, r2_score, mean_squared_error\n",
    "import joblib"
   ]
  },
  {
   "cell_type": "markdown",
   "metadata": {},
   "source": [
    "Processing the data\n"
   ]
  },
  {
   "cell_type": "code",
   "execution_count": 2,
   "metadata": {},
   "outputs": [],
   "source": [
    "# Load the data\n",
    "data = pd.read_csv('Data/simulation_results.csv')\n",
    "\n",
    "# Split the data into features and targets\n",
    "X = data[['Density', 'PotEng', 'Enthalpy']]\n",
    "y = data[['Epsilon', 'Sigma']]\n"
   ]
  },
  {
   "cell_type": "markdown",
   "metadata": {},
   "source": [
    "Hyper Parameter tuning"
   ]
  },
  {
   "cell_type": "code",
   "execution_count": 3,
   "metadata": {},
   "outputs": [
    {
     "name": "stdout",
     "output_type": "stream",
     "text": [
      "Best hyperparameters found:  {'estimator__subsample': 0.8, 'estimator__n_estimators': 100, 'estimator__min_samples_split': 5, 'estimator__min_samples_leaf': 4, 'estimator__max_depth': 5, 'estimator__learning_rate': 0.1}\n"
     ]
    }
   ],
   "source": [
    "# Initialize the model\n",
    "model = MultiOutputRegressor(GradientBoostingRegressor(random_state=42))\n",
    "\n",
    "# Define the hyperparameter distribution\n",
    "param_dist = {\n",
    "    \"estimator__n_estimators\": [100, 200, 300],\n",
    "    \"estimator__learning_rate\": [0.01, 0.1, 0.2],\n",
    "    \"estimator__max_depth\": [3, 4, 5],\n",
    "    \"estimator__min_samples_split\": [2, 5, 10],\n",
    "    \"estimator__min_samples_leaf\": [1, 2, 4],\n",
    "    \"estimator__subsample\": [0.8, 0.9, 1.0]\n",
    "}\n",
    "\n",
    "# Define scoring metrics\n",
    "scoring = {\n",
    "    'neg_mean_squared_error': make_scorer(mean_squared_error, greater_is_better=False)\n",
    "}\n",
    "\n",
    "# Perform Randomized Search with cross-validation\n",
    "random_search = RandomizedSearchCV(model, param_distributions=param_dist, scoring=scoring, refit='neg_mean_squared_error', cv=3, n_jobs=-1, n_iter=50, random_state=42)\n",
    "\n",
    "# Fit the model\n",
    "random_search.fit(X, y)\n",
    "\n",
    "# Get the best model\n",
    "best_model = random_search.best_estimator_\n",
    "\n",
    "# Print the best hyperparameters\n",
    "print(\"Best hyperparameters found: \", random_search.best_params_)"
   ]
  },
  {
   "cell_type": "markdown",
   "metadata": {},
   "source": [
    "Cross validating to evaluate the model"
   ]
  },
  {
   "cell_type": "code",
   "execution_count": 4,
   "metadata": {},
   "outputs": [
    {
     "name": "stdout",
     "output_type": "stream",
     "text": [
      "Average RMSE: 0.17304777512076827\n"
     ]
    }
   ],
   "source": [
    "# Perform cross-validation with the best model to get RMSE scores\n",
    "cv_results = cross_validate(best_model, X, y, scoring=scoring, cv=5)\n",
    "cv_mse = -cv_results['test_neg_mean_squared_error']\n",
    "cv_rmse = np.sqrt(cv_mse)\n",
    "\n",
    "print(f'Average RMSE: {cv_rmse.mean()}')"
   ]
  },
  {
   "cell_type": "markdown",
   "metadata": {},
   "source": [
    "Train and save the model"
   ]
  },
  {
   "cell_type": "code",
   "execution_count": 5,
   "metadata": {},
   "outputs": [
    {
     "data": {
      "text/plain": [
       "['Models/GBM/gradient_boosting_combined_best.pkl']"
      ]
     },
     "execution_count": 5,
     "metadata": {},
     "output_type": "execute_result"
    }
   ],
   "source": [
    "# Train the best model on the entire dataset\n",
    "best_model.fit(X, y)\n",
    "\n",
    "# Save the best model and the\n",
    "joblib.dump(best_model, 'Models/GBM/gradient_boosting_combined_best.pkl')"
   ]
  },
  {
   "cell_type": "markdown",
   "metadata": {},
   "source": [
    "Testing the model for one custom sample"
   ]
  },
  {
   "cell_type": "code",
   "execution_count": 3,
   "metadata": {},
   "outputs": [
    {
     "name": "stdout",
     "output_type": "stream",
     "text": [
      "Epsilon:\n",
      "real value: 0.2385  predicted value: 0.24183173386534992 \n",
      "relative error: 1.40 %\n",
      "\n",
      "Sigma:\n",
      "real value: 3.405  predicted value: 3.4061915015797455 \n",
      "relative error: 0.03 %\n"
     ]
    }
   ],
   "source": [
    "# Function to calculate percentage relative error\n",
    "def percentage_relative_error(actual, predicted):\n",
    "    return abs((predicted - actual) / actual) * 100\n",
    "\n",
    "# Load the trained model\n",
    "best_model = joblib.load('Models/GBM/gradient_boosting_combined_best.pkl')\n",
    "\n",
    "# Define the custom input data\n",
    "custom_data = pd.DataFrame(np.array([[1.3052555611111112,-652.6723927777779,-499.243345]]), columns=['Density', 'PotEng', 'Enthalpy'])\n",
    "# Make predictions\n",
    "predicted = best_model.predict(custom_data)\n",
    "predicted_epsilon = predicted[0][0]\n",
    "predicted_sigma = predicted[0][1]\n",
    "\n",
    "# Define the real values (actual values)\n",
    "real_epsilon = 0.2385\n",
    "real_sigma = 3.405\n",
    "\n",
    "# Print the results with specific formatting\n",
    "print(\"Epsilon:\")\n",
    "print(f\"real value: {real_epsilon}  predicted value: {predicted_epsilon} \\nrelative error: {percentage_relative_error(real_epsilon, predicted_epsilon):.2f} %\")\n",
    "\n",
    "print(\"\\nSigma:\")\n",
    "print(f\"real value: {real_sigma}  predicted value: {predicted_sigma} \\nrelative error: {percentage_relative_error(real_sigma, predicted_sigma):.2f} %\")"
   ]
  }
 ],
 "metadata": {
  "kernelspec": {
   "display_name": "Python 3",
   "language": "python",
   "name": "python3"
  },
  "language_info": {
   "codemirror_mode": {
    "name": "ipython",
    "version": 3
   },
   "file_extension": ".py",
   "mimetype": "text/x-python",
   "name": "python",
   "nbconvert_exporter": "python",
   "pygments_lexer": "ipython3",
   "version": "3.12.3"
  }
 },
 "nbformat": 4,
 "nbformat_minor": 2
}
