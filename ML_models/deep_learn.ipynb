{
 "cells": [
  {
   "cell_type": "markdown",
   "metadata": {},
   "source": [
    "Necessary imports"
   ]
  },
  {
   "cell_type": "code",
   "execution_count": 2,
   "metadata": {},
   "outputs": [
    {
     "name": "stdout",
     "output_type": "stream",
     "text": [
      "Using GPU for training\n"
     ]
    }
   ],
   "source": [
    "import torch\n",
    "import torch.nn as nn\n",
    "import torch.optim as optim\n",
    "from torch.utils.data import Dataset, DataLoader\n",
    "import numpy as np\n",
    "import pandas as pd\n",
    "import joblib\n",
    "from sklearn.preprocessing import StandardScaler\n",
    "from IPython.display import clear_output\n",
    "\n",
    "# Check if GPU is available and set device\n",
    "device = torch.device('cuda' if torch.cuda.is_available() else 'cpu')\n",
    "\n",
    "# Print device\n",
    "if device.type == 'cuda':\n",
    "    print('Using GPU for training')\n",
    "else:\n",
    "    print('Using CPU for training')"
   ]
  },
  {
   "cell_type": "markdown",
   "metadata": {},
   "source": [
    "Configuring the model"
   ]
  },
  {
   "cell_type": "code",
   "execution_count": 4,
   "metadata": {},
   "outputs": [],
   "source": [
    "# LJ Dataset class\n",
    "class LJDataset(Dataset):\n",
    "    def __init__(self, csv_file):\n",
    "        self.data = pd.read_csv(csv_file)\n",
    "        self.X = self.data[['Density', 'PotEng', 'Enthalpy']].values.astype(np.float32)\n",
    "        self.y = self.data[['Epsilon', 'Sigma']].values.astype(np.float32)\n",
    "        self.len = len(self.data)\n",
    "\n",
    "    def __len__(self):\n",
    "        return self.len\n",
    "\n",
    "    def __getitem__(self, idx):\n",
    "        return self.X[idx], self.y[idx]\n",
    "\n",
    "# Neural Network Model for LJ parameters\n",
    "class LJNet(nn.Module):\n",
    "    def __init__(self):\n",
    "        super(LJNet, self).__init__()\n",
    "        self.fc1 = nn.Linear(3, 64)\n",
    "        self.fc2 = nn.Linear(64, 64)\n",
    "        self.fc3 = nn.Linear(64, 2)  # 2 output nodes for Epsilon and Sigma\n",
    "\n",
    "    def forward(self, x):\n",
    "        x = torch.relu(self.fc1(x))\n",
    "        x = torch.relu(self.fc2(x))\n",
    "        x = self.fc3(x)\n",
    "        return x"
   ]
  },
  {
   "cell_type": "markdown",
   "metadata": {},
   "source": [
    "Training"
   ]
  },
  {
   "cell_type": "code",
   "execution_count": 2,
   "metadata": {},
   "outputs": [
    {
     "name": "stdout",
     "output_type": "stream",
     "text": [
      "Current Iteration: 1000/1000\n"
     ]
    }
   ],
   "source": [
    "\n",
    "\n",
    "# Load the LJ dataset\n",
    "lj_dataset = LJDataset('Data/simulation_results.csv')\n",
    "train_loader = DataLoader(lj_dataset, batch_size=32, shuffle=True)\n",
    "\n",
    "# Normalize the features using StandardScaler and save the scaler\n",
    "scaler = StandardScaler()\n",
    "lj_dataset.X = scaler.fit_transform(lj_dataset.X)\n",
    "\n",
    "# Save the scaler\n",
    "joblib.dump(scaler, 'Models/DL/scaler.pkl')\n",
    "\n",
    "# Initialize the LJ model, loss function, and optimizer\n",
    "lj_model = LJNet().to(device)\n",
    "criterion = nn.MSELoss()\n",
    "optimizer = optim.Adam(lj_model.parameters(), lr=0.001)\n",
    "\n",
    "\n",
    "total_epochs = 1000\n",
    "\n",
    "for epoch in range(1, total_epochs + 1):  \n",
    "    for batch_idx, (inputs, targets) in enumerate(train_loader, 1):\n",
    "        inputs, targets = inputs.to(device), targets.to(device)\n",
    "        \n",
    "        optimizer.zero_grad()\n",
    "        outputs = lj_model(inputs)\n",
    "        loss = criterion(outputs, targets)\n",
    "        loss.backward()\n",
    "        optimizer.step()\n",
    "\n",
    "    # Display progress\n",
    "    clear_output()\n",
    "    print(f\"Current Iteration: {epoch}/{total_epochs}\")\n",
    "\n",
    "# Save the trained LJ model\n",
    "torch.save(lj_model.state_dict(), 'Models/DL/lj_model.pth')\n"
   ]
  },
  {
   "cell_type": "markdown",
   "metadata": {},
   "source": [
    "Loding the saved model"
   ]
  },
  {
   "cell_type": "code",
   "execution_count": 6,
   "metadata": {},
   "outputs": [
    {
     "name": "stdout",
     "output_type": "stream",
     "text": [
      "Epsilon:\n",
      "real value: 0.2385  predicted value: 0.2396 \n",
      "relative error: 0.46 %\n",
      "\n",
      "Sigma:\n",
      "real value: 3.405  predicted value: 3.4315 \n",
      "relative error: 0.78 %\n"
     ]
    }
   ],
   "source": [
    "import warnings\n",
    "\n",
    "warnings.simplefilter('ignore', UserWarning)\n",
    "\n",
    "# Function to calculate percentage relative error\n",
    "def percentage_relative_error(actual, predicted):\n",
    "    # Convert inputs to PyTorch tensors if not already\n",
    "    actual = torch.tensor(actual).to(device)\n",
    "    predicted = torch.tensor(predicted).to(device)\n",
    "    \n",
    "    return torch.abs((predicted - actual) / actual) * 100\n",
    "\n",
    "# Check if GPU is available and set device\n",
    "device = torch.device('cuda')\n",
    "\n",
    "# Load the trained LJ model\n",
    "lj_model = LJNet()\n",
    "lj_model.load_state_dict(torch.load('Models/DL/lj_model.pth'))\n",
    "lj_model.to(device)\n",
    "lj_model.eval()\n",
    "\n",
    "# Load the scaler\n",
    "scaler = joblib.load('Models/DL/scaler.pkl')   \n",
    "\n",
    "# Define the custom input data for testing\n",
    "custom_data = pd.DataFrame(np.array([[1.3052555611111112,-652.6723927777779,-499.243345]]), columns=['Density', 'PotEng', 'Enthalpy'])\n",
    "\n",
    "# Normalize the custom input data using the loaded scaler\n",
    "custom_data_normalized = scaler.transform(custom_data) \n",
    "\n",
    "# Convert to PyTorch tensor and move to the appropriate device\n",
    "inputs = torch.tensor(custom_data_normalized, dtype=torch.float32).to(device)\n",
    "\n",
    "# Make prediction\n",
    "with torch.no_grad():\n",
    "    outputs = lj_model(inputs)\n",
    "predicted_epsilon, predicted_sigma = outputs.cpu().numpy()[0]  # Move outputs to CPU and convert to numpy array\n",
    "\n",
    "# Define the real values (actual values)\n",
    "real_epsilon = 0.2385\n",
    "real_sigma = 3.405\n",
    "\n",
    "# Print the results with specific formatting\n",
    "print(\"Epsilon:\")\n",
    "print(f\"real value: {real_epsilon}  predicted value: {predicted_epsilon:.4f} \\nrelative error: {percentage_relative_error(real_epsilon, predicted_epsilon):.2f} %\")\n",
    "\n",
    "print(\"\\nSigma:\")\n",
    "print(f\"real value: {real_sigma}  predicted value: {predicted_sigma:.4f} \\nrelative error: {percentage_relative_error(real_sigma, predicted_sigma):.2f} %\")"
   ]
  }
 ],
 "metadata": {
  "kernelspec": {
   "display_name": "Python 3",
   "language": "python",
   "name": "python3"
  },
  "language_info": {
   "codemirror_mode": {
    "name": "ipython",
    "version": 3
   },
   "file_extension": ".py",
   "mimetype": "text/x-python",
   "name": "python",
   "nbconvert_exporter": "python",
   "pygments_lexer": "ipython3",
   "version": "3.12.3"
  }
 },
 "nbformat": 4,
 "nbformat_minor": 2
}
